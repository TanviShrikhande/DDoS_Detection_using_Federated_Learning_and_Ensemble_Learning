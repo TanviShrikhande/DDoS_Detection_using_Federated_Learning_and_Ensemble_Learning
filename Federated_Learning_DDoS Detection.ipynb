{
 "cells": [
  {
   "cell_type": "markdown",
   "id": "3fa6b378",
   "metadata": {},
   "source": [
    "\n",
    "# DDoS Detection using Federated and Ensemble Learning- an Analysis study"
   ]
  },
  {
   "cell_type": "code",
   "execution_count": 1,
   "id": "b26b5943",
   "metadata": {},
   "outputs": [],
   "source": [
    "import numpy as np\n",
    "import pandas as pd\n",
    "from sklearn.model_selection import train_test_split\n",
    "from sklearn.svm import SVC\n",
    "from sklearn.metrics import confusion_matrix\n",
    "from sklearn.metrics import accuracy_score\n",
    "from sklearn.preprocessing import StandardScaler\n",
    "from sklearn.preprocessing import MinMaxScaler"
   ]
  },
  {
   "cell_type": "code",
   "execution_count": 2,
   "id": "d8ca1c74",
   "metadata": {},
   "outputs": [],
   "source": [
    "from numpy import loadtxt\n",
    "import tensorflow as tf\n",
    "from tensorflow import keras\n",
    "from tensorflow.keras.models import Sequential\n",
    "from tensorflow.keras.layers import Dense, Activation\n",
    "from tensorflow.keras.optimizers import Adam\n",
    "from tensorflow.keras.metrics import categorical_crossentropy\n",
    "from sklearn.metrics import ConfusionMatrixDisplay, classification_report"
   ]
  },
  {
   "cell_type": "code",
   "execution_count": 3,
   "id": "e8c71703",
   "metadata": {},
   "outputs": [],
   "source": [
    "df=pd.read_csv('final.csv')\n"
   ]
  },
  {
   "cell_type": "code",
   "execution_count": 4,
   "id": "beb2a141",
   "metadata": {},
   "outputs": [],
   "source": [
    "df=df[:17000]"
   ]
  },
  {
   "cell_type": "code",
   "execution_count": 5,
   "id": "0c8d495d",
   "metadata": {},
   "outputs": [],
   "source": [
    "df=df.drop(['FLAGS'],axis=1)"
   ]
  },
  {
   "cell_type": "code",
   "execution_count": 6,
   "id": "8afebb16",
   "metadata": {},
   "outputs": [],
   "source": [
    "from sklearn import preprocessing\n",
    "label_encoder = preprocessing.LabelEncoder()"
   ]
  },
  {
   "cell_type": "code",
   "execution_count": 7,
   "id": "e9f70985",
   "metadata": {},
   "outputs": [
    {
     "name": "stdout",
     "output_type": "stream",
     "text": [
      "[3 0 1 2]\n",
      "[ 1  0 46 45 17 35  2 38 22 15  4  9 18  6  8  3 47 37 43 20 14 29  7 21\n",
      " 10 50 33 24 48 19 25 40 49  5 30 16 32 31 12 13 27 41 23 11 28 26 39 36\n",
      " 42 34 44]\n",
      "[ 0 36  2  1  4 16 18 37  6 10  8 14 20 17 35 15  9 38 19 33 39  5  7 40\n",
      "  3 13 34 24 32 22 27 30 26 31 29 23 28 12 25 11 21]\n",
      "[1 4 3 2 0]\n"
     ]
    }
   ],
   "source": [
    "df['PKT_TYPE']=label_encoder.fit_transform(df['PKT_TYPE'])\n",
    "df['PKT_CLASS']=label_encoder.fit_transform(df['PKT_CLASS'])\n",
    "df['NODE_NAME_TO']=label_encoder.fit_transform(df['NODE_NAME_TO'])\n",
    "df['NODE_NAME_FROM']=label_encoder.fit_transform(df['NODE_NAME_FROM'])\n",
    "print(df['PKT_TYPE'].unique())\n",
    "print(df['NODE_NAME_FROM'].unique())\n",
    "print(df['NODE_NAME_TO'].unique())\n",
    "print(df['PKT_CLASS'].unique())"
   ]
  },
  {
   "cell_type": "code",
   "execution_count": 8,
   "id": "6d33bf29",
   "metadata": {},
   "outputs": [],
   "source": [
    "X=df.drop(['PKT_CLASS'],axis=1)\n",
    "Y=df['PKT_CLASS']"
   ]
  },
  {
   "cell_type": "code",
   "execution_count": 9,
   "id": "74b36255",
   "metadata": {},
   "outputs": [],
   "source": [
    "X=np.array(X)\n",
    "Y=np.array(Y)"
   ]
  },
  {
   "cell_type": "code",
   "execution_count": 10,
   "id": "3a4d98ef",
   "metadata": {},
   "outputs": [],
   "source": [
    "scaler=MinMaxScaler(feature_range=(0,1))\n",
    "scaled_train=scaler.fit_transform(X)"
   ]
  },
  {
   "cell_type": "code",
   "execution_count": 11,
   "id": "a8b02f0f",
   "metadata": {},
   "outputs": [
    {
     "data": {
      "text/plain": [
       "array([[0.11538462, 0.93461538, 0.60737576, ..., 0.46754471, 0.04      ,\n",
       "        0.61200429],\n",
       "       [0.57692308, 0.92884615, 0.31357818, ..., 0.26508242, 0.04      ,\n",
       "        0.61212812],\n",
       "       [0.92884615, 0.57692308, 0.09647468, ..., 0.09222276, 0.0412018 ,\n",
       "        0.61257634],\n",
       "       ...,\n",
       "       [0.92692308, 0.03846154, 0.70267524, ..., 0.52933126, 0.04120064,\n",
       "        0.61232551],\n",
       "       [0.93846154, 0.15384615, 0.1191637 , ..., 0.11027061, 0.0412014 ,\n",
       "        0.61250399],\n",
       "       [0.53846154, 0.92846154, 0.75748923, ..., 0.56490271, 0.04      ,\n",
       "        0.61212444]])"
      ]
     },
     "execution_count": 11,
     "metadata": {},
     "output_type": "execute_result"
    }
   ],
   "source": [
    "scaled_train"
   ]
  },
  {
   "cell_type": "code",
   "execution_count": 16,
   "id": "737c7eb3",
   "metadata": {},
   "outputs": [],
   "source": [
    "class MulticlassClassification:\n",
    "    def __init__(self, input_dims, layers, num_classes):\n",
    "        self.model = Sequential(name=\"server_model\")\n",
    "        self.model.add(Dense(\n",
    "            layers[0],\n",
    "            input_shape=(input_dims,),\n",
    "            activation='relu'\n",
    "        ))\n",
    "        for l in layers[1:]:\n",
    "            self.model.add(Dense(l, activation='relu'))\n",
    "        self.model.add(Dense(num_classes, activation='softmax'))\n",
    "        self.model.compile(\n",
    "            loss='sparse_categorical_crossentropy',\n",
    "            optimizer='adam',\n",
    "            metrics=['accuracy']\n",
    "        )\n",
    "        self.model.summary()\n",
    "\n",
    "    # THIS WILL OVERWRITE ANY TRAINING\n",
    "    def set_avg_weights(self, models):\n",
    "        all_weights = np.array([\n",
    "            model.model.get_weights()\n",
    "                for model in models\n",
    "        ])\n",
    "        avg_weights = np.mean(all_weights, axis=0)\n",
    "        self.model.set_weights(avg_weights)\n",
    "\n",
    "    def fit(self, X, Y, epochs, batch_size):\n",
    "        # print(pd.value_counts(Y.ravel()))\n",
    "        self.model.fit(X, Y.ravel(), epochs=epochs, batch_size=batch_size)\n",
    "\n",
    "    def predict(self, X, Y):\n",
    "        # print(pd.value_counts(Y.ravel()))\n",
    "        \n",
    "        preds = self.model.predict(X)\n",
    "        preds = [np.argmax(p) for p in preds]\n",
    "        \n",
    "        print(classification_report(Y, preds))\n",
    "        # print(confusion_matrix(Y, preds))\n",
    "        ConfusionMatrixDisplay.from_predictions(Y, preds)\n"
   ]
  },
  {
   "cell_type": "code",
   "execution_count": 17,
   "id": "670c03cd",
   "metadata": {},
   "outputs": [],
   "source": [
    "X_train, X_test, Y_train, Y_test = train_test_split(X, Y, train_size=0.7, random_state=1)"
   ]
  },
  {
   "cell_type": "code",
   "execution_count": 18,
   "id": "f6b4ce07",
   "metadata": {},
   "outputs": [],
   "source": [
    "X_1, X_2, Y_1, Y_2 = train_test_split(X_train, Y_train, train_size=0.5, random_state=1)"
   ]
  },
  {
   "cell_type": "code",
   "execution_count": 19,
   "id": "125f5f67",
   "metadata": {},
   "outputs": [
    {
     "name": "stdout",
     "output_type": "stream",
     "text": [
      "Model: \"server_model\"\n",
      "_________________________________________________________________\n",
      " Layer (type)                Output Shape              Param #   \n",
      "=================================================================\n",
      " dense (Dense)               (None, 20)                540       \n",
      "                                                                 \n",
      " dense_1 (Dense)             (None, 20)                420       \n",
      "                                                                 \n",
      " dense_2 (Dense)             (None, 20)                420       \n",
      "                                                                 \n",
      " dense_3 (Dense)             (None, 5)                 105       \n",
      "                                                                 \n",
      "=================================================================\n",
      "Total params: 1,485\n",
      "Trainable params: 1,485\n",
      "Non-trainable params: 0\n",
      "_________________________________________________________________\n",
      "Epoch 1/20\n",
      "186/186 [==============================] - 1s 1ms/step - loss: 69240.1250 - accuracy: 0.8126\n",
      "Epoch 2/20\n",
      "186/186 [==============================] - 0s 1ms/step - loss: 2126.6697 - accuracy: 0.9412\n",
      "Epoch 3/20\n",
      "186/186 [==============================] - 0s 1ms/step - loss: 2509.8772 - accuracy: 0.9350\n",
      "Epoch 4/20\n",
      "186/186 [==============================] - 0s 1ms/step - loss: 1536.4692 - accuracy: 0.9508\n",
      "Epoch 5/20\n",
      "186/186 [==============================] - 0s 1ms/step - loss: 1637.3063 - accuracy: 0.9492\n",
      "Epoch 6/20\n",
      "186/186 [==============================] - 0s 1ms/step - loss: 1115.9227 - accuracy: 0.9573\n",
      "Epoch 7/20\n",
      "186/186 [==============================] - 0s 1ms/step - loss: 2264.0869 - accuracy: 0.9415\n",
      "Epoch 8/20\n",
      "186/186 [==============================] - 0s 1ms/step - loss: 1169.0403 - accuracy: 0.9607\n",
      "Epoch 9/20\n",
      "186/186 [==============================] - 0s 1ms/step - loss: 1286.6422 - accuracy: 0.9479\n",
      "Epoch 10/20\n",
      "186/186 [==============================] - 0s 1ms/step - loss: 3713.2468 - accuracy: 0.9524\n",
      "Epoch 11/20\n",
      "186/186 [==============================] - 0s 1ms/step - loss: 5022.9263 - accuracy: 0.9580\n",
      "Epoch 12/20\n",
      "186/186 [==============================] - 0s 1ms/step - loss: 1665.1555 - accuracy: 0.9587\n",
      "Epoch 13/20\n",
      "186/186 [==============================] - 0s 1ms/step - loss: 1524.4673 - accuracy: 0.9568\n",
      "Epoch 14/20\n",
      "186/186 [==============================] - 0s 1ms/step - loss: 1931.7283 - accuracy: 0.9481\n",
      "Epoch 15/20\n",
      "186/186 [==============================] - 0s 1ms/step - loss: 1460.4625 - accuracy: 0.9571\n",
      "Epoch 16/20\n",
      "186/186 [==============================] - 0s 1ms/step - loss: 1263.4056 - accuracy: 0.9587\n",
      "Epoch 17/20\n",
      "186/186 [==============================] - 0s 1ms/step - loss: 3006.6729 - accuracy: 0.9580\n",
      "Epoch 18/20\n",
      "186/186 [==============================] - 0s 1ms/step - loss: 1387.6434 - accuracy: 0.9587\n",
      "Epoch 19/20\n",
      "186/186 [==============================] - 0s 1ms/step - loss: 2756.4600 - accuracy: 0.9593\n",
      "Epoch 20/20\n",
      "186/186 [==============================] - 0s 1ms/step - loss: 2316.3076 - accuracy: 0.9573\n"
     ]
    }
   ],
   "source": [
    "model_sf_1 = MulticlassClassification(\n",
    "    26,\n",
    "    [20, 20, 20],\n",
    "    num_classes=5\n",
    ")\n",
    "model_sf_1.fit(X_1, Y_1, epochs=20, batch_size=32)"
   ]
  },
  {
   "cell_type": "code",
   "execution_count": 20,
   "id": "181b52fc",
   "metadata": {
    "scrolled": true
   },
   "outputs": [
    {
     "name": "stdout",
     "output_type": "stream",
     "text": [
      "160/160 [==============================] - 0s 910us/step\n",
      "              precision    recall  f1-score   support\n",
      "\n",
      "           0       0.00      0.00      0.00        12\n",
      "           1       0.98      1.00      0.99      4563\n",
      "           2       0.00      0.00      0.00        18\n",
      "           3       0.00      0.00      0.00        33\n",
      "           4       0.92      0.90      0.91       474\n",
      "\n",
      "    accuracy                           0.98      5100\n",
      "   macro avg       0.38      0.38      0.38      5100\n",
      "weighted avg       0.96      0.98      0.97      5100\n",
      "\n"
     ]
    },
    {
     "name": "stderr",
     "output_type": "stream",
     "text": [
      "C:\\Users\\Acer\\anaconda3\\lib\\site-packages\\sklearn\\metrics\\_classification.py:1318: UndefinedMetricWarning: Precision and F-score are ill-defined and being set to 0.0 in labels with no predicted samples. Use `zero_division` parameter to control this behavior.\n",
      "  _warn_prf(average, modifier, msg_start, len(result))\n",
      "C:\\Users\\Acer\\anaconda3\\lib\\site-packages\\sklearn\\metrics\\_classification.py:1318: UndefinedMetricWarning: Precision and F-score are ill-defined and being set to 0.0 in labels with no predicted samples. Use `zero_division` parameter to control this behavior.\n",
      "  _warn_prf(average, modifier, msg_start, len(result))\n",
      "C:\\Users\\Acer\\anaconda3\\lib\\site-packages\\sklearn\\metrics\\_classification.py:1318: UndefinedMetricWarning: Precision and F-score are ill-defined and being set to 0.0 in labels with no predicted samples. Use `zero_division` parameter to control this behavior.\n",
      "  _warn_prf(average, modifier, msg_start, len(result))\n"
     ]
    },
    {
     "data": {
      "image/png": "[encoded data removed]",
      "text/plain": [
       "<Figure size 432x288 with 2 Axes>"
      ]
     },
     "metadata": {
      "needs_background": "light"
     },
     "output_type": "display_data"
    }
   ],
   "source": [
    "model_sf_1.predict(X_test, Y_test)"
   ]
  },
  {
   "cell_type": "code",
   "execution_count": 21,
   "id": "1d7ab543",
   "metadata": {},
   "outputs": [
    {
     "name": "stdout",
     "output_type": "stream",
     "text": [
      "Model: \"server_model\"\n",
      "_________________________________________________________________\n",
      " Layer (type)                Output Shape              Param #   \n",
      "=================================================================\n",
      " dense_4 (Dense)             (None, 20)                540       \n",
      "                                                                 \n",
      " dense_5 (Dense)             (None, 20)                420       \n",
      "                                                                 \n",
      " dense_6 (Dense)             (None, 20)                420       \n",
      "                                                                 \n",
      " dense_7 (Dense)             (None, 5)                 105       \n",
      "                                                                 \n",
      "=================================================================\n",
      "Total params: 1,485\n",
      "Trainable params: 1,485\n",
      "Non-trainable params: 0\n",
      "_________________________________________________________________\n",
      "Epoch 1/20\n",
      "186/186 [==============================] - 0s 1ms/step - loss: 19554.1035 - accuracy: 0.8408\n",
      "Epoch 2/20\n",
      "186/186 [==============================] - 0s 1ms/step - loss: 1914.1971 - accuracy: 0.9482\n",
      "Epoch 3/20\n",
      "186/186 [==============================] - 0s 1ms/step - loss: 2596.9954 - accuracy: 0.9518\n",
      "Epoch 4/20\n",
      "186/186 [==============================] - 0s 1ms/step - loss: 1508.5049 - accuracy: 0.9647\n",
      "Epoch 5/20\n",
      "186/186 [==============================] - 0s 1ms/step - loss: 2478.4253 - accuracy: 0.9524\n",
      "Epoch 6/20\n",
      "186/186 [==============================] - 0s 1ms/step - loss: 1118.3650 - accuracy: 0.9703\n",
      "Epoch 7/20\n",
      "186/186 [==============================] - 0s 1ms/step - loss: 1138.8453 - accuracy: 0.9686\n",
      "Epoch 8/20\n",
      "186/186 [==============================] - 0s 1ms/step - loss: 543.1940 - accuracy: 0.9624\n",
      "Epoch 9/20\n",
      "186/186 [==============================] - 0s 1ms/step - loss: 731.0438 - accuracy: 0.9561\n",
      "Epoch 10/20\n",
      "186/186 [==============================] - 0s 1ms/step - loss: 583.2209 - accuracy: 0.9487\n",
      "Epoch 11/20\n",
      "186/186 [==============================] - 0s 1ms/step - loss: 177.8940 - accuracy: 0.7486\n",
      "Epoch 12/20\n",
      "186/186 [==============================] - 0s 1ms/step - loss: 3.3308 - accuracy: 0.8997\n",
      "Epoch 13/20\n",
      "186/186 [==============================] - 0s 1ms/step - loss: 2.0496 - accuracy: 0.9000\n",
      "Epoch 14/20\n",
      "186/186 [==============================] - 0s 1ms/step - loss: 1.9909 - accuracy: 0.8995\n",
      "Epoch 15/20\n",
      "186/186 [==============================] - 0s 1ms/step - loss: 1.5811 - accuracy: 0.9002\n",
      "Epoch 16/20\n",
      "186/186 [==============================] - 0s 1ms/step - loss: 1.0648 - accuracy: 0.8997\n",
      "Epoch 17/20\n",
      "186/186 [==============================] - 0s 1ms/step - loss: 0.8071 - accuracy: 0.9005\n",
      "Epoch 18/20\n",
      "186/186 [==============================] - 0s 1ms/step - loss: 1.3531 - accuracy: 0.9003\n",
      "Epoch 19/20\n",
      "186/186 [==============================] - 0s 1ms/step - loss: 1.0555 - accuracy: 0.9005\n",
      "Epoch 20/20\n",
      "186/186 [==============================] - 0s 1ms/step - loss: 0.6833 - accuracy: 0.9002\n"
     ]
    }
   ],
   "source": [
    "model_sf_2 = MulticlassClassification(\n",
    "    26,\n",
    "    [20, 20, 20],\n",
    "    num_classes=5\n",
    ")\n",
    "model_sf_2.fit(X_2, Y_2, epochs=20, batch_size=32)"
   ]
  },
  {
   "cell_type": "code",
   "execution_count": 22,
   "id": "7b6f6756",
   "metadata": {},
   "outputs": [
    {
     "name": "stdout",
     "output_type": "stream",
     "text": [
      "160/160 [==============================] - 0s 794us/step\n",
      "              precision    recall  f1-score   support\n",
      "\n",
      "           0       0.00      0.00      0.00        12\n",
      "           1       0.89      1.00      0.94      4563\n",
      "           2       0.00      0.00      0.00        18\n",
      "           3       0.00      0.00      0.00        33\n",
      "           4       0.00      0.00      0.00       474\n",
      "\n",
      "    accuracy                           0.89      5100\n",
      "   macro avg       0.18      0.20      0.19      5100\n",
      "weighted avg       0.80      0.89      0.84      5100\n",
      "\n"
     ]
    },
    {
     "name": "stderr",
     "output_type": "stream",
     "text": [
      "C:\\Users\\Acer\\anaconda3\\lib\\site-packages\\sklearn\\metrics\\_classification.py:1318: UndefinedMetricWarning: Precision and F-score are ill-defined and being set to 0.0 in labels with no predicted samples. Use `zero_division` parameter to control this behavior.\n",
      "  _warn_prf(average, modifier, msg_start, len(result))\n",
      "C:\\Users\\Acer\\anaconda3\\lib\\site-packages\\sklearn\\metrics\\_classification.py:1318: UndefinedMetricWarning: Precision and F-score are ill-defined and being set to 0.0 in labels with no predicted samples. Use `zero_division` parameter to control this behavior.\n",
      "  _warn_prf(average, modifier, msg_start, len(result))\n",
      "C:\\Users\\Acer\\anaconda3\\lib\\site-packages\\sklearn\\metrics\\_classification.py:1318: UndefinedMetricWarning: Precision and F-score are ill-defined and being set to 0.0 in labels with no predicted samples. Use `zero_division` parameter to control this behavior.\n",
      "  _warn_prf(average, modifier, msg_start, len(result))\n"
     ]
    },
    {
     "data": {
      "image/png": "[encoded data removed]",
      "text/plain": [
       "<Figure size 432x288 with 2 Axes>"
      ]
     },
     "metadata": {
      "needs_background": "light"
     },
     "output_type": "display_data"
    }
   ],
   "source": [
    "model_sf_2.predict(X_test, Y_test)"
   ]
  },
  {
   "cell_type": "code",
   "execution_count": 23,
   "id": "46fc6a79",
   "metadata": {},
   "outputs": [
    {
     "name": "stdout",
     "output_type": "stream",
     "text": [
      "Model: \"server_model\"\n",
      "_________________________________________________________________\n",
      " Layer (type)                Output Shape              Param #   \n",
      "=================================================================\n",
      " dense_8 (Dense)             (None, 20)                540       \n",
      "                                                                 \n",
      " dense_9 (Dense)             (None, 20)                420       \n",
      "                                                                 \n",
      " dense_10 (Dense)            (None, 20)                420       \n",
      "                                                                 \n",
      " dense_11 (Dense)            (None, 5)                 105       \n",
      "                                                                 \n",
      "=================================================================\n",
      "Total params: 1,485\n",
      "Trainable params: 1,485\n",
      "Non-trainable params: 0\n",
      "_________________________________________________________________\n"
     ]
    }
   ],
   "source": [
    "model_sf_3 = MulticlassClassification(\n",
    "    26,\n",
    "    [20, 20, 20],\n",
    "    num_classes=5\n",
    ")"
   ]
  },
  {
   "cell_type": "code",
   "execution_count": 24,
   "id": "a7d5f3d0",
   "metadata": {},
   "outputs": [
    {
     "name": "stderr",
     "output_type": "stream",
     "text": [
      "C:\\Users\\Acer\\AppData\\Local\\Temp\\ipykernel_12620\\2802328577.py:21: VisibleDeprecationWarning: Creating an ndarray from ragged nested sequences (which is a list-or-tuple of lists-or-tuples-or ndarrays with different lengths or shapes) is deprecated. If you meant to do this, you must specify 'dtype=object' when creating the ndarray.\n",
      "  all_weights = np.array([\n"
     ]
    }
   ],
   "source": [
    "model_sf_3.set_avg_weights([model_sf_1, model_sf_2])"
   ]
  },
  {
   "cell_type": "code",
   "execution_count": 25,
   "id": "ecff7af0",
   "metadata": {},
   "outputs": [
    {
     "name": "stdout",
     "output_type": "stream",
     "text": [
      "160/160 [==============================] - 0s 750us/step\n",
      "              precision    recall  f1-score   support\n",
      "\n",
      "           0       0.00      0.00      0.00        12\n",
      "           1       0.89      0.99      0.94      4563\n",
      "           2       0.00      0.00      0.00        18\n",
      "           3       0.04      0.03      0.03        33\n",
      "           4       0.00      0.00      0.00       474\n",
      "\n",
      "    accuracy                           0.89      5100\n",
      "   macro avg       0.19      0.20      0.20      5100\n",
      "weighted avg       0.80      0.89      0.84      5100\n",
      "\n"
     ]
    },
    {
     "name": "stderr",
     "output_type": "stream",
     "text": [
      "C:\\Users\\Acer\\anaconda3\\lib\\site-packages\\sklearn\\metrics\\_classification.py:1318: UndefinedMetricWarning: Precision and F-score are ill-defined and being set to 0.0 in labels with no predicted samples. Use `zero_division` parameter to control this behavior.\n",
      "  _warn_prf(average, modifier, msg_start, len(result))\n",
      "C:\\Users\\Acer\\anaconda3\\lib\\site-packages\\sklearn\\metrics\\_classification.py:1318: UndefinedMetricWarning: Precision and F-score are ill-defined and being set to 0.0 in labels with no predicted samples. Use `zero_division` parameter to control this behavior.\n",
      "  _warn_prf(average, modifier, msg_start, len(result))\n",
      "C:\\Users\\Acer\\anaconda3\\lib\\site-packages\\sklearn\\metrics\\_classification.py:1318: UndefinedMetricWarning: Precision and F-score are ill-defined and being set to 0.0 in labels with no predicted samples. Use `zero_division` parameter to control this behavior.\n",
      "  _warn_prf(average, modifier, msg_start, len(result))\n"
     ]
    },
    {
     "data": {
      "image/png": "[encoded data removed]",
      "text/plain": [
       "<Figure size 432x288 with 2 Axes>"
      ]
     },
     "metadata": {
      "needs_background": "light"
     },
     "output_type": "display_data"
    }
   ],
   "source": [
    "model_sf_3.predict(X_test, Y_test)"
   ]
  }
 ],
 "metadata": {
  "kernelspec": {
   "display_name": "Python 3 (ipykernel)",
   "language": "python",
   "name": "python3"
  },
  "language_info": {
   "codemirror_mode": {
    "name": "ipython",
    "version": 3
   },
   "file_extension": ".py",
   "mimetype": "text/x-python",
   "name": "python",
   "nbconvert_exporter": "python",
   "pygments_lexer": "ipython3",
   "version": "3.9.16"
  }
 },
 "nbformat": 4,
 "nbformat_minor": 5
}
